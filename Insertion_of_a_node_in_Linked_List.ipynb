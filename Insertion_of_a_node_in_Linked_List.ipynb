{
  "nbformat": 4,
  "nbformat_minor": 0,
  "metadata": {
    "colab": {
      "provenance": [],
      "authorship_tag": "ABX9TyOBrZhs1AAAY1j0CIfu0dPT",
      "include_colab_link": true
    },
    "kernelspec": {
      "name": "python3",
      "display_name": "Python 3"
    },
    "language_info": {
      "name": "python"
    }
  },
  "cells": [
    {
      "cell_type": "markdown",
      "metadata": {
        "id": "view-in-github",
        "colab_type": "text"
      },
      "source": [
        "<a href=\"https://colab.research.google.com/github/Shashankpuskar/DSA_Practice/blob/main/Insertion_of_a_node_in_Linked_List.ipynb\" target=\"_parent\"><img src=\"https://colab.research.google.com/assets/colab-badge.svg\" alt=\"Open In Colab\"/></a>"
      ]
    },
    {
      "cell_type": "code",
      "execution_count": 14,
      "metadata": {
        "colab": {
          "base_uri": "https://localhost:8080/"
        },
        "id": "t3ruroZqQBqE",
        "outputId": "fd886e75-65a0-4426-de6b-c2f1b5447178"
      },
      "outputs": [
        {
          "output_type": "stream",
          "name": "stdout",
          "text": [
            "Insertion of nodes at the end of the linked list:\n",
            "10  20  30  40  50  \n",
            "Insertion of nodes after second node of the linked list:\n",
            "10  20  25  30  40  50  "
          ]
        }
      ],
      "source": [
        "class Node:\n",
        "  def __init__(self,data):\n",
        "    self.data = data\n",
        "    self.nextptr = None\n",
        "\n",
        "class LinkedList:\n",
        "  def __init__(self):\n",
        "    self.head = None\n",
        "\n",
        "    # Insert the new node at the beginning of the linked list\n",
        "  def insertAtbeginning(self, new_data):\n",
        "    # create new node for the new_data\n",
        "    new_node = Node(new_data)\n",
        "    # insertion at the beginning of the linked list\n",
        "    new_node.nextptr = self.head\n",
        "    self.head = new_node\n",
        "\n",
        "  def insertAtEnd(self, new_data):\n",
        "    # create a new node for the new data\n",
        "    new_node = Node(new_data)\n",
        "\n",
        "    # check whether linked list is empty or different\n",
        "    if self.head is None:\n",
        "      self.head = new_node\n",
        "      return\n",
        "\n",
        "    # insert the data at the end\n",
        "    temp = self.head\n",
        "    while temp.nextptr:\n",
        "      temp = temp.nextptr\n",
        "\n",
        "    temp.nextptr = new_node\n",
        "\n",
        "  # insert the new node after any of the previous node\n",
        "  def insertAfterNode(self, prev_node, new_data):\n",
        "    if prev_node is None:\n",
        "      print(\"Given node must be available in your linked list\")\n",
        "      return\n",
        "\n",
        "    # create a new linked list\n",
        "    new_node = Node(new_data)\n",
        "    new_node.nextptr = prev_node.nextptr\n",
        "    prev_node.nextptr = new_node\n",
        "\n",
        "  def printLinkedList(self):\n",
        "    temp = self.head\n",
        "    while temp:\n",
        "      print(str(temp.data)+ \" \", end = \" \")\n",
        "      temp = temp.nextptr\n",
        "\n",
        "# Driver code\n",
        "llist = LinkedList()\n",
        "# llist.insertAtbeginning(10)\n",
        "# llist.insertAtbeginning(20)\n",
        "# llist.insertAtbeginning(30)\n",
        "# llist.insertAtbeginning(40)\n",
        "# llist.insertAtbeginning(50)\n",
        "# llist.printLinkedList()\n",
        "\n",
        "llist.insertAtEnd(10)\n",
        "llist.insertAtEnd(20)\n",
        "llist.insertAtEnd(30)\n",
        "llist.insertAtEnd(40)\n",
        "llist.insertAtEnd(50)\n",
        "print(\"Insertion of nodes at the end of the linked list:\")\n",
        "llist.printLinkedList()\n",
        "print()\n",
        "llist.insertAfterNode(llist.head.nextptr, 25)\n",
        "print(\"Insertion of nodes after second node of the linked list:\")\n",
        "llist.printLinkedList()"
      ]
    },
    {
      "cell_type": "code",
      "source": [],
      "metadata": {
        "id": "l6kH6HbhTWdd"
      },
      "execution_count": null,
      "outputs": []
    }
  ]
}