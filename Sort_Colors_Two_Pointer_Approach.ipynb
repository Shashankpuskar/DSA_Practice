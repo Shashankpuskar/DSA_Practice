{
  "nbformat": 4,
  "nbformat_minor": 0,
  "metadata": {
    "colab": {
      "provenance": [],
      "authorship_tag": "ABX9TyOcAuT2wDgTBZYTlQVcBLyS",
      "include_colab_link": true
    },
    "kernelspec": {
      "name": "python3",
      "display_name": "Python 3"
    },
    "language_info": {
      "name": "python"
    }
  },
  "cells": [
    {
      "cell_type": "markdown",
      "metadata": {
        "id": "view-in-github",
        "colab_type": "text"
      },
      "source": [
        "<a href=\"https://colab.research.google.com/github/Shashankpuskar/DSA_Practice/blob/main/Sort_Colors_Two_Pointer_Approach.ipynb\" target=\"_parent\"><img src=\"https://colab.research.google.com/assets/colab-badge.svg\" alt=\"Open In Colab\"/></a>"
      ]
    },
    {
      "cell_type": "code",
      "execution_count": 3,
      "metadata": {
        "colab": {
          "base_uri": "https://localhost:8080/"
        },
        "id": "E8BF9tA4WkWM",
        "outputId": "4e4814b5-0b80-49b0-af41-ff597b809092"
      },
      "outputs": [
        {
          "output_type": "stream",
          "name": "stdout",
          "text": [
            "[0, 1, 1, 2, 2]\n"
          ]
        }
      ],
      "source": [
        "# Approach 1: Count Sort TC = O(n), SC = O(1)\n",
        "# Approach 2: Two Pointers Approach TC = O(n), SC = O(1)\n",
        "# Method Definition\n",
        "def sortColors(nums):\n",
        "  p0 = curr = 0\n",
        "  p2 = len(nums) - 1\n",
        "\n",
        "  while curr <= p2:\n",
        "    if nums[curr] == 0:\n",
        "      nums[p0], nums[curr] = nums[curr], nums[p0]\n",
        "      p0 += 1\n",
        "      curr += 1\n",
        "\n",
        "    if nums[curr] == 2:\n",
        "      nums[p2], nums[curr] = nums[curr], nums[p2]\n",
        "      p2 -= 1\n",
        "\n",
        "    else:\n",
        "      curr += 1\n",
        "  return nums\n",
        "\n",
        "\n",
        "\n",
        "\n",
        "# Driver code\n",
        "# num = [2,0,2,1,1,0]\n",
        "num = [2, 1, 1, 0, 2]\n",
        "result = sortColors(num)\n",
        "print(result)"
      ]
    },
    {
      "cell_type": "code",
      "source": [],
      "metadata": {
        "id": "NqHyJgM0Y2Ma"
      },
      "execution_count": null,
      "outputs": []
    }
  ]
}