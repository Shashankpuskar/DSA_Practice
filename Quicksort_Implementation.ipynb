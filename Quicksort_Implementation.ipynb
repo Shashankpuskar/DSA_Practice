{
  "nbformat": 4,
  "nbformat_minor": 0,
  "metadata": {
    "colab": {
      "provenance": [],
      "authorship_tag": "ABX9TyMyWTN4aQHU1X7LKYPGUgP5",
      "include_colab_link": true
    },
    "kernelspec": {
      "name": "python3",
      "display_name": "Python 3"
    },
    "language_info": {
      "name": "python"
    }
  },
  "cells": [
    {
      "cell_type": "markdown",
      "metadata": {
        "id": "view-in-github",
        "colab_type": "text"
      },
      "source": [
        "<a href=\"https://colab.research.google.com/github/Shashankpuskar/DSA_Practice/blob/main/Quicksort_Implementation.ipynb\" target=\"_parent\"><img src=\"https://colab.research.google.com/assets/colab-badge.svg\" alt=\"Open In Colab\"/></a>"
      ]
    },
    {
      "cell_type": "markdown",
      "source": [
        "**Implementation of Quicksort Algorithm**"
      ],
      "metadata": {
        "id": "QOrfsJUYT6Dk"
      }
    },
    {
      "cell_type": "markdown",
      "source": [
        "Time Complexity:\n",
        "\n",
        "1. Best or average case scenario: O(n logn)\n",
        "\n",
        "2. Worstcase scenario: O(n^2)"
      ],
      "metadata": {
        "id": "_m-4FvJyWH-w"
      }
    },
    {
      "cell_type": "markdown",
      "source": [
        "Space Complexity: O(1)\n"
      ],
      "metadata": {
        "id": "5PYgiYgdWnXb"
      }
    },
    {
      "cell_type": "code",
      "execution_count": null,
      "metadata": {
        "colab": {
          "base_uri": "https://localhost:8080/"
        },
        "id": "0zqa2KXt7Ats",
        "outputId": "d8f5ad69-f272-42a1-b128-ea12ffe77657"
      },
      "outputs": [
        {
          "output_type": "stream",
          "name": "stdout",
          "text": [
            "[12, 15, 26, 29, 29, 46, 50, 67, 70, 100]\n"
          ]
        }
      ],
      "source": [
        "# Method definition for partition\n",
        "def partition(arr, p, q):\n",
        "  pivot = arr[p]\n",
        "  i = p\n",
        "  for j in range(i+1, q+1):\n",
        "    if arr[j] <= pivot:\n",
        "      i += 1\n",
        "      # swap between the values of arr[i] and arr[j]\n",
        "      arr[i], arr[j] = arr[j], arr[i]\n",
        "  # final swap between the values of arr[i] and arr[p]\n",
        "  arr[i],arr[p] = arr[p], arr[i]\n",
        "  return i\n",
        "\n",
        "\n",
        "\n",
        "# Method definition of quicksort\n",
        "def quicksort(arr, p, q):\n",
        "  if p < q:\n",
        "    # Divide and Conquer Approach\n",
        "    # 1. Divide\n",
        "    # function callin for partition method\n",
        "    mid = partition(arr, p, q)\n",
        "    # recursive function call for left subtree\n",
        "    quicksort(arr, p, mid-1)\n",
        "    # recursive function call for right subtree\n",
        "    quicksort(arr, mid+1, q)\n",
        "  return arr\n",
        "\n",
        "\n",
        "\n",
        "\n",
        "\n",
        "# Driver code\n",
        "arr =[50, 70, 29, 67, 12, 15, 46, 100, 26, 29]\n",
        "p = 0\n",
        "q = len(arr) - 1\n",
        "# function calling\n",
        "result = quicksort(arr, p, q)\n",
        "print(result)"
      ]
    },
    {
      "cell_type": "markdown",
      "source": [
        "**Implementation of Randomized Quicksort**"
      ],
      "metadata": {
        "id": "Bz48Si2xUd0l"
      }
    },
    {
      "cell_type": "code",
      "source": [
        "import random\n",
        "\n",
        "# Method defintion for randomizedPartition\n",
        "def randomizedPartition(arr, p, q):\n",
        "  randomPivotElement = random.randrange(p,q)\n",
        "  # swap the random index with the first index\n",
        "  arr[p], arr[randomPivotElement] = arr[randomPivotElement], arr[p]\n",
        "  return partition(arr, p, q)\n",
        "\n",
        "\n",
        "# Method definition for partition\n",
        "def partition(arr, p, q):\n",
        "  pivot = arr[p]\n",
        "  i = p\n",
        "  for j in range(i+1, q+1):\n",
        "    if arr[j] <= pivot:\n",
        "      i += 1\n",
        "      # swap between the values of arr[i] and arr[j]\n",
        "      arr[i], arr[j] = arr[j], arr[i]\n",
        "  # final swap between the values of arr[i] and arr[p]\n",
        "  arr[i],arr[p] = arr[p], arr[i]\n",
        "  return i\n",
        "\n",
        "\n",
        "\n",
        "# Method definition of quicksort\n",
        "def quicksort(arr, p, q):\n",
        "  if p < q:\n",
        "    # Divide and Conquer Approach\n",
        "    # 1. Divide\n",
        "    # function callin for partition method\n",
        "    mid = randomizedPartition(arr, p, q)\n",
        "    # recursive function call for left subtree\n",
        "    quicksort(arr, p, mid-1)\n",
        "    # recursive function call for right subtree\n",
        "    quicksort(arr, mid+1, q)\n",
        "  return arr\n",
        "\n",
        "\n",
        "\n",
        "\n",
        "# Driver code\n",
        "arr =[50, 70, 29, 67, 12, 15, 46, 100, 26, 29]\n",
        "p = 0\n",
        "q = len(arr) - 1\n",
        "# function calling\n",
        "result = quicksort(arr, p, q)\n",
        "print(result)"
      ],
      "metadata": {
        "colab": {
          "base_uri": "https://localhost:8080/"
        },
        "id": "iyc3b3kAT2Jj",
        "outputId": "e0b8e0c4-7d9d-4eab-da5d-c8273ca229d0"
      },
      "execution_count": 9,
      "outputs": [
        {
          "output_type": "stream",
          "name": "stdout",
          "text": [
            "[12, 15, 26, 29, 29, 46, 50, 67, 70, 100]\n"
          ]
        }
      ]
    }
  ]
}