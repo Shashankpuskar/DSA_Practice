{
  "nbformat": 4,
  "nbformat_minor": 0,
  "metadata": {
    "colab": {
      "provenance": [],
      "authorship_tag": "ABX9TyMMbuV70OBPmrKaZDToSl05",
      "include_colab_link": true
    },
    "kernelspec": {
      "name": "python3",
      "display_name": "Python 3"
    },
    "language_info": {
      "name": "python"
    }
  },
  "cells": [
    {
      "cell_type": "markdown",
      "metadata": {
        "id": "view-in-github",
        "colab_type": "text"
      },
      "source": [
        "<a href=\"https://colab.research.google.com/github/Shashankpuskar/DSA_Practice/blob/main/Quicksort_Implementation.ipynb\" target=\"_parent\"><img src=\"https://colab.research.google.com/assets/colab-badge.svg\" alt=\"Open In Colab\"/></a>"
      ]
    },
    {
      "cell_type": "code",
      "execution_count": null,
      "metadata": {
        "colab": {
          "base_uri": "https://localhost:8080/"
        },
        "id": "0zqa2KXt7Ats",
        "outputId": "d8f5ad69-f272-42a1-b128-ea12ffe77657"
      },
      "outputs": [
        {
          "output_type": "stream",
          "name": "stdout",
          "text": [
            "[12, 15, 26, 29, 29, 46, 50, 67, 70, 100]\n"
          ]
        }
      ],
      "source": [
        "# Method definition for partition\n",
        "def partition(arr, p, q):\n",
        "  pivot = arr[p]\n",
        "  i = p\n",
        "  for j in range(i+1, q+1):\n",
        "    if arr[j] <= pivot:\n",
        "      i += 1\n",
        "      # swap between the values of arr[i] and arr[j]\n",
        "      arr[i], arr[j] = arr[j], arr[i]\n",
        "  # final swap between the values of arr[i] and arr[p]\n",
        "  arr[i],arr[p] = arr[p], arr[i]\n",
        "  return i\n",
        "\n",
        "\n",
        "\n",
        "# Method definition of quicksort\n",
        "def quicksort(arr, p, q):\n",
        "  if p < q:\n",
        "    # Divide and Conquer Approach\n",
        "    # 1. Divide\n",
        "    # function callin for partition method\n",
        "    mid = partition(arr, p, q)\n",
        "    # recursive function call for left subtree\n",
        "    quicksort(arr, p, mid-1)\n",
        "    # recursive function call for right subtree\n",
        "    quicksort(arr, mid+1, q)\n",
        "  return arr\n",
        "\n",
        "\n",
        "\n",
        "\n",
        "\n",
        "# Driver code\n",
        "arr =[50, 70, 29, 67, 12, 15, 46, 100, 26, 29]\n",
        "p = 0\n",
        "q = len(arr) - 1\n",
        "# function calling\n",
        "result = quicksort(arr, p, q)\n",
        "print(result)"
      ]
    }
  ]
}