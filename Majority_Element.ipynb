{
  "nbformat": 4,
  "nbformat_minor": 0,
  "metadata": {
    "colab": {
      "provenance": [],
      "authorship_tag": "ABX9TyMCv4hLClSQMBq8ZEBQ5R6T",
      "include_colab_link": true
    },
    "kernelspec": {
      "name": "python3",
      "display_name": "Python 3"
    },
    "language_info": {
      "name": "python"
    }
  },
  "cells": [
    {
      "cell_type": "markdown",
      "metadata": {
        "id": "view-in-github",
        "colab_type": "text"
      },
      "source": [
        "<a href=\"https://colab.research.google.com/github/Shashankpuskar/DSA_Practice/blob/main/Majority_Element.ipynb\" target=\"_parent\"><img src=\"https://colab.research.google.com/assets/colab-badge.svg\" alt=\"Open In Colab\"/></a>"
      ]
    },
    {
      "cell_type": "markdown",
      "source": [
        "Time Complexity: O(n)\n",
        "\n",
        "Space Complexity: O(n)"
      ],
      "metadata": {
        "id": "SmnwEDtxGz25"
      }
    },
    {
      "cell_type": "code",
      "execution_count": 3,
      "metadata": {
        "colab": {
          "base_uri": "https://localhost:8080/"
        },
        "id": "rmmW2xZ1c42C",
        "outputId": "38e598de-08c6-45a2-84fc-8677a7243b76"
      },
      "outputs": [
        {
          "output_type": "stream",
          "name": "stdout",
          "text": [
            "Counter({2: 4, 1: 3})\n",
            "Majority element in an array is : 2\n"
          ]
        }
      ],
      "source": [
        "# Method definition\n",
        "from collections import Counter\n",
        "def majorityElement(nums):\n",
        "  counts = Counter(nums)\n",
        "  print(counts)\n",
        "  return max(counts.keys(), key = counts.get)\n",
        "\n",
        "\n",
        "\n",
        "# Driver code\n",
        "nums = [2, 2, 1, 1, 1, 2, 2]\n",
        "result = majorityElement(nums)\n",
        "print(\"Majority element in an array is :\", result)"
      ]
    },
    {
      "cell_type": "markdown",
      "source": [
        "**Problem: Finding of peak element in an array**\n",
        "\n",
        "**Approach: Modified Binary Search**\n"
      ],
      "metadata": {
        "id": "1sIxGU2PJtWp"
      }
    },
    {
      "cell_type": "markdown",
      "source": [
        "**Time Complexity: O(logn)**\n",
        "\n",
        "**Space Complexity: O(1)**"
      ],
      "metadata": {
        "id": "GVrlPV7VMBvq"
      }
    },
    {
      "cell_type": "code",
      "source": [
        "# Method definition\n",
        "def findPeakElement(nums):\n",
        "  start = 0\n",
        "  end = len(nums) - 1\n",
        "\n",
        "  if nums[0]>nums[1]:\n",
        "    return 0\n",
        "  if nums[-1]>nums[-2]:\n",
        "    return len(nums)\n",
        "  # Modified Binary Search Approach\n",
        "  while start < end:\n",
        "    mid = start + (end-start)//2\n",
        "\n",
        "    if nums[mid] > nums[mid+1]:\n",
        "      end = mid\n",
        "    else:\n",
        "      start = mid + 1\n",
        "  return end\n",
        "\n",
        "\n",
        "\n",
        "\n",
        "\n",
        "# Driver code\n",
        "nums = [1, 2, 1, 3, 5, 6, 4]\n",
        "result = findPeakElement(nums)\n",
        "print(\"Peak Element in an array is\", result)"
      ],
      "metadata": {
        "colab": {
          "base_uri": "https://localhost:8080/"
        },
        "id": "jnrmsn6aF9CY",
        "outputId": "234b086f-5754-49bb-de88-dae45c2bdaa3"
      },
      "execution_count": 4,
      "outputs": [
        {
          "output_type": "stream",
          "name": "stdout",
          "text": [
            "Peak Element in an array is 5\n"
          ]
        }
      ]
    },
    {
      "cell_type": "code",
      "source": [],
      "metadata": {
        "id": "vwEd2fO-Ltc-"
      },
      "execution_count": null,
      "outputs": []
    }
  ]
}